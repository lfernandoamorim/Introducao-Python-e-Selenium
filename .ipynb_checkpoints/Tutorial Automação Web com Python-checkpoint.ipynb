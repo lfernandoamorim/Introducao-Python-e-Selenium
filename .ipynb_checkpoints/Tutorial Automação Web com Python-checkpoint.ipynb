{
 "cells": [
  {
   "cell_type": "markdown",
   "id": "9a6fcd79",
   "metadata": {},
   "source": [
    "# Automação Web com Python\n",
    "\n",
    "### Python + Selenium\n",
    "\n",
    "Neste tutorial tem o conceito básico de RPA com o Chrome, para que esse tutorial funcione, é necessário fazer os passos abaixo:\n",
    "\n",
    "1. Instalar o Selenium dentro do Jupyter\n",
    "> para isso abra o terminal no Jupyter e digite:***pip install selenium***\n",
    "    \n",
    "2. Baixar e colocar o chromewebdriver\n",
    "> coloca na pasta que está o projeto e também (não obrigatório) na pasta anaconda3 (3 por causa da versão que usei no momento)"
   ]
  },
  {
   "cell_type": "code",
   "execution_count": 3,
   "id": "b3bb0b56",
   "metadata": {},
   "outputs": [],
   "source": [
    "#Passo 1: acessar o site https://www.advancesistemas.net/\n",
    "#passo 2: logar com meu usuário\n",
    "#Passo 3: Fazer download da planilha de crachas"
   ]
  },
  {
   "cell_type": "code",
   "execution_count": 5,
   "id": "fb2cfb76",
   "metadata": {},
   "outputs": [],
   "source": [
    "#importa a biblioteca webdriver\n",
    "from selenium import webdriver\n",
    "from selenium.webdriver.common.by import By\n",
    "\n",
    "#abre o navegador crhome, mas tenha certeza de o chromedriver.exe esteja na pasta python e/ou\n",
    "#anaconda (C:\\ProgramData\\Anaconda3), ou referencie para a pasta do projeto \n",
    "#usando webdriver.Chrome(executable_path=r'./chromedriver.exe')\n",
    "navegador = webdriver.Chrome()\n",
    "\n",
    "#abre o navegador crhome\n",
    "navegador.get('https://www.advancesistemas.net/')\n",
    "\n",
    "#busca o elemento xptah de um elemento, nesse caso o do link aAcessar Conta\n",
    "#quando utilizar xpath, coloque o elemento sempre entre ''\n",
    "elemento = navegador.find_element(By.XPATH,'//*[@id=\"comp-kns04bql\"]/button')\n",
    "elemento.click()"
   ]
  },
  {
   "cell_type": "code",
   "execution_count": null,
   "id": "00266589",
   "metadata": {},
   "outputs": [],
   "source": []
  }
 ],
 "metadata": {
  "kernelspec": {
   "display_name": "Python 3 (ipykernel)",
   "language": "python",
   "name": "python3"
  },
  "language_info": {
   "codemirror_mode": {
    "name": "ipython",
    "version": 3
   },
   "file_extension": ".py",
   "mimetype": "text/x-python",
   "name": "python",
   "nbconvert_exporter": "python",
   "pygments_lexer": "ipython3",
   "version": "3.9.7"
  }
 },
 "nbformat": 4,
 "nbformat_minor": 5
}
